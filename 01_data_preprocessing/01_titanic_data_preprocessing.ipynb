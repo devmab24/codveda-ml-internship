{
 "cells": [
  {
   "cell_type": "markdown",
   "id": "c2380c3d-0ef6-48c4-ae8c-833546f8b75a",
   "metadata": {},
   "source": [
    "## GOAL\n",
    "\n",
    "In this section, I will;\n",
    "1. Handle missing data (mean/median/drop).\n",
    "2. Encode categorical variables (one-hot/label).\n",
    "3. Normalize/standardize features.\n",
    "   "
   ]
  },
  {
   "cell_type": "markdown",
   "id": "72970a62-a2e3-4a55-9be7-7d89261beda1",
   "metadata": {},
   "source": [
    "For this task, I chose the Titanic dataset, which is widely recognized as a beginner-friendly dataset for machine learning and data preprocessing. It is available as a built-in dataset in the Seaborn library, which makes it easy to load and start working with immediately without the need for external downloads. I selected this dataset because it contains a balanced mix of numerical, categorical, and boolean variables, along with missing values that provide a realistic scenario for practicing essential preprocessing steps. Additionally, the Titanic dataset has a clearly defined target variable (survived), making it suitable for downstream predictive modeling tasks later in the internship."
   ]
  },
  {
   "cell_type": "markdown",
   "id": "b974533b-bddd-4b3e-be3d-2654d529d31b",
   "metadata": {},
   "source": [
    "## Import dependencies"
   ]
  },
  {
   "cell_type": "code",
   "execution_count": 3,
   "id": "4bf2a1ed-9172-4461-9aa6-db83111c117c",
   "metadata": {},
   "outputs": [],
   "source": [
    "#imports\n",
    "import os\n",
    "import joblib\n",
    "from pprint import pprint\n",
    "import pandas as pd\n",
    "import matplotlib.pyplot as plt\n",
    "import seaborn as sns\n",
    "from sklearn.preprocessing import StandardScaler\n",
    "# import pprint\n"
   ]
  },
  {
   "cell_type": "markdown",
   "id": "5d40fa7e-f97a-46cf-88aa-99e92844e828",
   "metadata": {},
   "source": [
    "## Exploratory Data Analysis (EDA)\n",
    "\n",
    "Before I start, I want to save the raw data in the root directory inside `datasets`"
   ]
  },
  {
   "cell_type": "code",
   "execution_count": 4,
   "id": "5f701b61-7ebc-4a36-b213-fee232673c13",
   "metadata": {},
   "outputs": [
    {
     "name": "stdout",
     "output_type": "stream",
     "text": [
      "✅ Raw Titanic dataset saved at datasets/titanic_raw.pkl\n"
     ]
    }
   ],
   "source": [
    "# Load the Titanic dataset and then store it as `titanic_df`\n",
    "titanic_df = sns.load_dataset('titanic')\n",
    "\n",
    "# Ensure datasets folder exists at the root directory\n",
    "os.makedirs(\"../datasets\", exist_ok=True)\n",
    "\n",
    "# Save to the project-level datasets directory\n",
    "save_path = os.path.join(\"..\", \"datasets\", \"titanic_raw.pkl\")\n",
    "joblib.dump(titanic_df, save_path)\n",
    "\n",
    "# print Success if okay\n",
    "print(\"✅ Raw Titanic dataset saved at datasets/titanic_raw.pkl\")"
   ]
  },
  {
   "cell_type": "markdown",
   "id": "4c81a67c-6cb5-488b-b41e-81287f7b85d9",
   "metadata": {},
   "source": [
    "**Datasets information**"
   ]
  },
  {
   "cell_type": "code",
   "execution_count": 5,
   "id": "56efad00-a943-48e5-9875-72406fdcdf37",
   "metadata": {},
   "outputs": [
    {
     "name": "stdout",
     "output_type": "stream",
     "text": [
      "<class 'pandas.core.frame.DataFrame'>\n",
      "RangeIndex: 891 entries, 0 to 890\n",
      "Data columns (total 15 columns):\n",
      " #   Column       Non-Null Count  Dtype   \n",
      "---  ------       --------------  -----   \n",
      " 0   survived     891 non-null    int64   \n",
      " 1   pclass       891 non-null    int64   \n",
      " 2   sex          891 non-null    object  \n",
      " 3   age          714 non-null    float64 \n",
      " 4   sibsp        891 non-null    int64   \n",
      " 5   parch        891 non-null    int64   \n",
      " 6   fare         891 non-null    float64 \n",
      " 7   embarked     889 non-null    object  \n",
      " 8   class        891 non-null    category\n",
      " 9   who          891 non-null    object  \n",
      " 10  adult_male   891 non-null    bool    \n",
      " 11  deck         203 non-null    category\n",
      " 12  embark_town  889 non-null    object  \n",
      " 13  alive        891 non-null    object  \n",
      " 14  alone        891 non-null    bool    \n",
      "dtypes: bool(2), category(2), float64(2), int64(4), object(5)\n",
      "memory usage: 80.7+ KB\n"
     ]
    }
   ],
   "source": [
    "# Display the data structure\n",
    "# titanic_df.shape\n",
    "titanic_df.info()"
   ]
  },
  {
   "cell_type": "code",
   "execution_count": 6,
   "id": "e310c5d1-7d64-4dbe-bd37-ebacf9d027bf",
   "metadata": {},
   "outputs": [
    {
     "data": {
      "text/html": [
       "<div>\n",
       "<style scoped>\n",
       "    .dataframe tbody tr th:only-of-type {\n",
       "        vertical-align: middle;\n",
       "    }\n",
       "\n",
       "    .dataframe tbody tr th {\n",
       "        vertical-align: top;\n",
       "    }\n",
       "\n",
       "    .dataframe thead th {\n",
       "        text-align: right;\n",
       "    }\n",
       "</style>\n",
       "<table border=\"1\" class=\"dataframe\">\n",
       "  <thead>\n",
       "    <tr style=\"text-align: right;\">\n",
       "      <th></th>\n",
       "      <th>survived</th>\n",
       "      <th>pclass</th>\n",
       "      <th>sex</th>\n",
       "      <th>age</th>\n",
       "      <th>sibsp</th>\n",
       "      <th>parch</th>\n",
       "      <th>fare</th>\n",
       "      <th>embarked</th>\n",
       "      <th>class</th>\n",
       "      <th>who</th>\n",
       "      <th>adult_male</th>\n",
       "      <th>deck</th>\n",
       "      <th>embark_town</th>\n",
       "      <th>alive</th>\n",
       "      <th>alone</th>\n",
       "    </tr>\n",
       "  </thead>\n",
       "  <tbody>\n",
       "    <tr>\n",
       "      <th>0</th>\n",
       "      <td>0</td>\n",
       "      <td>3</td>\n",
       "      <td>male</td>\n",
       "      <td>22.0</td>\n",
       "      <td>1</td>\n",
       "      <td>0</td>\n",
       "      <td>7.2500</td>\n",
       "      <td>S</td>\n",
       "      <td>Third</td>\n",
       "      <td>man</td>\n",
       "      <td>True</td>\n",
       "      <td>NaN</td>\n",
       "      <td>Southampton</td>\n",
       "      <td>no</td>\n",
       "      <td>False</td>\n",
       "    </tr>\n",
       "    <tr>\n",
       "      <th>1</th>\n",
       "      <td>1</td>\n",
       "      <td>1</td>\n",
       "      <td>female</td>\n",
       "      <td>38.0</td>\n",
       "      <td>1</td>\n",
       "      <td>0</td>\n",
       "      <td>71.2833</td>\n",
       "      <td>C</td>\n",
       "      <td>First</td>\n",
       "      <td>woman</td>\n",
       "      <td>False</td>\n",
       "      <td>C</td>\n",
       "      <td>Cherbourg</td>\n",
       "      <td>yes</td>\n",
       "      <td>False</td>\n",
       "    </tr>\n",
       "    <tr>\n",
       "      <th>2</th>\n",
       "      <td>1</td>\n",
       "      <td>3</td>\n",
       "      <td>female</td>\n",
       "      <td>26.0</td>\n",
       "      <td>0</td>\n",
       "      <td>0</td>\n",
       "      <td>7.9250</td>\n",
       "      <td>S</td>\n",
       "      <td>Third</td>\n",
       "      <td>woman</td>\n",
       "      <td>False</td>\n",
       "      <td>NaN</td>\n",
       "      <td>Southampton</td>\n",
       "      <td>yes</td>\n",
       "      <td>True</td>\n",
       "    </tr>\n",
       "    <tr>\n",
       "      <th>3</th>\n",
       "      <td>1</td>\n",
       "      <td>1</td>\n",
       "      <td>female</td>\n",
       "      <td>35.0</td>\n",
       "      <td>1</td>\n",
       "      <td>0</td>\n",
       "      <td>53.1000</td>\n",
       "      <td>S</td>\n",
       "      <td>First</td>\n",
       "      <td>woman</td>\n",
       "      <td>False</td>\n",
       "      <td>C</td>\n",
       "      <td>Southampton</td>\n",
       "      <td>yes</td>\n",
       "      <td>False</td>\n",
       "    </tr>\n",
       "    <tr>\n",
       "      <th>4</th>\n",
       "      <td>0</td>\n",
       "      <td>3</td>\n",
       "      <td>male</td>\n",
       "      <td>35.0</td>\n",
       "      <td>0</td>\n",
       "      <td>0</td>\n",
       "      <td>8.0500</td>\n",
       "      <td>S</td>\n",
       "      <td>Third</td>\n",
       "      <td>man</td>\n",
       "      <td>True</td>\n",
       "      <td>NaN</td>\n",
       "      <td>Southampton</td>\n",
       "      <td>no</td>\n",
       "      <td>True</td>\n",
       "    </tr>\n",
       "  </tbody>\n",
       "</table>\n",
       "</div>"
      ],
      "text/plain": [
       "   survived  pclass     sex   age  sibsp  parch     fare embarked  class  \\\n",
       "0         0       3    male  22.0      1      0   7.2500        S  Third   \n",
       "1         1       1  female  38.0      1      0  71.2833        C  First   \n",
       "2         1       3  female  26.0      0      0   7.9250        S  Third   \n",
       "3         1       1  female  35.0      1      0  53.1000        S  First   \n",
       "4         0       3    male  35.0      0      0   8.0500        S  Third   \n",
       "\n",
       "     who  adult_male deck  embark_town alive  alone  \n",
       "0    man        True  NaN  Southampton    no  False  \n",
       "1  woman       False    C    Cherbourg   yes  False  \n",
       "2  woman       False  NaN  Southampton   yes   True  \n",
       "3  woman       False    C  Southampton   yes  False  \n",
       "4    man        True  NaN  Southampton    no   True  "
      ]
     },
     "execution_count": 6,
     "metadata": {},
     "output_type": "execute_result"
    }
   ],
   "source": [
    "# Display the first five rows of the dataset to verify\n",
    "titanic_df.head()"
   ]
  },
  {
   "cell_type": "code",
   "execution_count": 7,
   "id": "cc333a4d-3394-422f-9ccb-b2f918ca8065",
   "metadata": {},
   "outputs": [
    {
     "name": "stdout",
     "output_type": "stream",
     "text": [
      "Missing Values Analysis:\n",
      "survived         0\n",
      "pclass           0\n",
      "sex              0\n",
      "age            177\n",
      "sibsp            0\n",
      "parch            0\n",
      "fare             0\n",
      "embarked         2\n",
      "class            0\n",
      "who              0\n",
      "adult_male       0\n",
      "deck           688\n",
      "embark_town      2\n",
      "alive            0\n",
      "alone            0\n",
      "dtype: int64\n",
      "\n",
      "Dataset Overview:\n",
      "         survived      pclass         age       sibsp       parch        fare\n",
      "count  891.000000  891.000000  714.000000  891.000000  891.000000  891.000000\n",
      "mean     0.383838    2.308642   29.699118    0.523008    0.381594   32.204208\n",
      "std      0.486592    0.836071   14.526497    1.102743    0.806057   49.693429\n",
      "min      0.000000    1.000000    0.420000    0.000000    0.000000    0.000000\n",
      "25%      0.000000    2.000000   20.125000    0.000000    0.000000    7.910400\n",
      "50%      0.000000    3.000000   28.000000    0.000000    0.000000   14.454200\n",
      "75%      1.000000    3.000000   38.000000    1.000000    0.000000   31.000000\n",
      "max      1.000000    3.000000   80.000000    8.000000    6.000000  512.329200\n"
     ]
    }
   ],
   "source": [
    "# EDA summary\n",
    "print(\"Missing Values Analysis:\")\n",
    "print(titanic_df.isnull().sum())\n",
    "print(\"\\nDataset Overview:\")\n",
    "print(titanic_df.describe())"
   ]
  },
  {
   "cell_type": "markdown",
   "id": "c7eb645d-fdd1-4271-a58c-4b5ce8f26b1a",
   "metadata": {},
   "source": [
    "## Visualization\n",
    "\n",
    "Visualizing the missing values using **bar chart**. "
   ]
  },
  {
   "cell_type": "code",
   "execution_count": 8,
   "id": "5fed8e16-13d7-4290-a05e-655b502df021",
   "metadata": {},
   "outputs": [
    {
     "data": {
      "image/png": "[encoded data removed]",
      "text/plain": [
       "<Figure size 800x500 with 1 Axes>"
      ]
     },
     "metadata": {},
     "output_type": "display_data"
    }
   ],
   "source": [
    "# Calculate missing values per column\n",
    "missing = titanic_df.isnull().sum()\n",
    "\n",
    "# Filter only columns with missing data\n",
    "missing = missing[missing > 0].sort_values(ascending=False)\n",
    "\n",
    "# Plot\n",
    "plt.figure(figsize=(8,5))\n",
    "sns.barplot(x=missing.values, y=missing.index, color=\"steelblue\")\n",
    "plt.title(\"Missing Values per Column\", fontsize=14)\n",
    "plt.xlabel(\"Number of Missing Values\")\n",
    "plt.ylabel(\"Features\")\n",
    "plt.show()\n"
   ]
  },
  {
   "cell_type": "markdown",
   "id": "da650c55-e30b-4c7c-a0df-0b3f9b7d5e37",
   "metadata": {},
   "source": [
    "The bar chart above provides a clear quantitative view of missing data across features. It shows that the deck column has the highest number of missing values, making it largely unusable, while the age column also contains a significant portion of missing data. In contrast, features such as embarked and embark_town have only a few missing entries, which are relatively minor."
   ]
  },
  {
   "cell_type": "markdown",
   "id": "45a4c778-7b59-4259-8d80-dd4d9499dbb1",
   "metadata": {},
   "source": [
    "Visualizing the missing values using **heatmap**."
   ]
  },
  {
   "cell_type": "code",
   "execution_count": 9,
   "id": "a4e8815e-3577-40c1-bea5-348755f8d608",
   "metadata": {},
   "outputs": [
    {
     "data": {
      "image/png": "[encoded data removed]",
      "text/plain": [
       "<Figure size 1000x600 with 1 Axes>"
      ]
     },
     "metadata": {},
     "output_type": "display_data"
    }
   ],
   "source": [
    "plt.figure(figsize=(10,6))\n",
    "sns.heatmap(titanic_df.isnull(), cbar=False, cmap=\"viridis\")\n",
    "plt.title(\"Missing Values Heatmap\", fontsize=14)\n",
    "plt.show()"
   ]
  },
  {
   "cell_type": "markdown",
   "id": "7634819d-4d12-4e4c-a5cb-2168a4597b40",
   "metadata": {},
   "source": [
    "The **heatmap** visualizes the distribution of missing values across rows and columns, making it easier to detect patterns. It confirms that deck has widespread missing data across most rows, while age is missing in scattered instances. The heatmap also highlights the sparse missing values in embarked and embark_town, showing that these are isolated and manageable through imputation."
   ]
  },
  {
   "cell_type": "markdown",
   "id": "9ae9286c-cd6a-4440-83f8-77e9866ffdf8",
   "metadata": {},
   "source": [
    "In the exploration of the Titanic dataset, I examined the dataset structure using `.info()` as well as `.describe()` etc. The dataset contains 891 entries with 15 columns, including numerical, categorical, and boolean variables. Several columns have missing values: **`age`** has 177 missing entries, **`embarked`** has 2, while **`deck`** has a significant number of missing values (688), making it a candidate for removal due to sparsity. The dataset also contains multiple categorical variables such as **`sex`**, **`embarked`**, **`class`**, **`who`**, and **`embark_town`**, along with boolean variables like **`adult_male`** and **`alone`**. The key target variable for predictive modeling is **`survived`**, which indicates whether a passenger survived the disaster. This step establishes a clear understanding of the data composition and highlights areas requiring preprocessing before model building.\n"
   ]
  },
  {
   "cell_type": "markdown",
   "id": "c9ba03be-43ec-4abd-95ec-df1cef06a6a9",
   "metadata": {},
   "source": [
    "## Wrangle Function\n",
    "1. Handling Missing Values.\n",
    "2. Encoding Categorical Variables.\n",
    "3. Feature Scaling\n",
    "\n",
    "**Since I’ve identified the preprocessing steps required, I will wrapped them into a reusable function called wrangle() to automate the cleaning process.**"
   ]
  },
  {
   "cell_type": "code",
   "execution_count": 10,
   "id": "8107fcd9-dc79-44f3-a210-fb9428676f1e",
   "metadata": {},
   "outputs": [],
   "source": [
    "def wrangle(df, filename=\"\", return_scaler=False):\n",
    "    \"\"\"\n",
    "    Cleans and preprocesses the Titanic dataset for machine learning.\n",
    "    \n",
    "    Preprocessing steps:\n",
    "    1. Drops columns with excessive missing values or redundant information\n",
    "    2. Handles missing values using statistical imputation\n",
    "    3. Encodes categorical variables using one-hot encoding\n",
    "    4. Standardizes numerical features\n",
    "    \n",
    "    Parameters:\n",
    "        df (pd.DataFrame): Raw Titanic DataFrame\n",
    "        return_scaler (bool): Whether to return the fitted scaler object\n",
    "        filename (str): empty by default, but when provided will be used for filename save\n",
    "    \n",
    "    Returns:\n",
    "        pd.DataFrame: Preprocessed DataFrame ready for ML\n",
    "        StandardScaler (optional): Fitted scaler object if return_scaler=True\n",
    "    \"\"\"\n",
    "    # Get the project root (parent of current working directory)\n",
    "    project_root = os.path.abspath(os.path.join(os.getcwd(), \"..\"))\n",
    "\n",
    "    # Ensure project-level datasets folder exists\n",
    "    datasets_dir = os.path.join(project_root, \"datasets\")\n",
    "    os.makedirs(datasets_dir, exist_ok=True)\n",
    "\n",
    "    # Build save path if filename provided\n",
    "    save_path = os.path.join(datasets_dir, filename) if filename else None\n",
    "    \n",
    "    # Create copy to avoid modifying original data\n",
    "    df_clean = df.copy()\n",
    "    \n",
    "    # 1. DROP IRRELEVANT COLUMNS\n",
    "    columns_to_drop = ['deck', 'alive', 'class', 'who']\n",
    "    df_clean = df_clean.drop(columns=columns_to_drop)\n",
    "    \n",
    "    # 2. HANDLE MISSING VALUES\n",
    "    # Fill age with median (robust to outliers)\n",
    "    df_clean['age'] = df_clean['age'].fillna(df_clean['age'].median())\n",
    "    \n",
    "    # Fill categorical variables with mode (most frequent value)\n",
    "    df_clean['embarked'] = df_clean['embarked'].fillna(df_clean['embarked'].mode()[0])\n",
    "    df_clean['embark_town'] = df_clean['embark_town'].fillna(df_clean['embark_town'].mode()[0])\n",
    "    \n",
    "    # 3. ENCODE CATEGORICAL VARIABLES\n",
    "    # One-hot encoding with drop_first=True to avoid multicollinearity\n",
    "    df_clean = pd.get_dummies(\n",
    "        df_clean, \n",
    "        columns=['sex', 'embarked', 'embark_town'], \n",
    "        drop_first=True,\n",
    "        dtype=int  # Ensure integer dummy variables\n",
    "    )\n",
    "    \n",
    "    # 4. STANDARDIZE NUMERICAL FEATURES\n",
    "    numerical_features = ['age', 'fare', 'sibsp', 'parch']\n",
    "    scaler = StandardScaler()\n",
    "    df_clean[numerical_features] = scaler.fit_transform(df_clean[numerical_features])\n",
    "\n",
    "    # Save cleaned data if filename given\n",
    "    if save_path:\n",
    "        joblib.dump(df_clean, save_path)\n",
    "        print(f\"✅ Cleaned dataset saved at {save_path}\")\n",
    "    \n",
    "    # return data and scaler   \n",
    "    return (df_clean, scaler) if return_scaler else df"
   ]
  },
  {
   "cell_type": "markdown",
   "id": "451a386d-546a-4341-916f-a78c15170c06",
   "metadata": {},
   "source": [
    "## Loading raw data into wrangle() function for cleaning"
   ]
  },
  {
   "cell_type": "code",
   "execution_count": 11,
   "id": "18552300-b822-4dbe-953e-a1905673f435",
   "metadata": {},
   "outputs": [
    {
     "name": "stdout",
     "output_type": "stream",
     "text": [
      "Loading raw Titanic dataset...\n",
      "Applying preprocessing pipeline...\n",
      "✅ Cleaned dataset saved at C:\\Users\\talk2\\Desktop\\codveda-ml-internship\\datasets\\titanic_preprocessed.pkl\n",
      "Scaler saved as 'C:\\Users\\talk2\\Desktop\\codveda-ml-internship\\datasets\\titanic_scaler.pkl'\n",
      "\n",
      "Preprocessing Summary:\n",
      "Original shape: (891, 15)\n",
      "Cleaned shape: (891, 13)\n",
      "Features removed: 2\n"
     ]
    }
   ],
   "source": [
    "# Get project-level datasets folder (one level up from current dir)\n",
    "datasets_dir = os.path.abspath(os.path.join(\"..\", \"datasets\"))\n",
    "\n",
    "# Load data\n",
    "print(\"Loading raw Titanic dataset...\")\n",
    "titanic_df = joblib.load(os.path.join(datasets_dir, \"titanic_raw.pkl\"))\n",
    "\n",
    "#Print processing message\n",
    "print(\"Applying preprocessing pipeline...\")\n",
    "# preprocess the loaded data using the wrangle function\n",
    "titanic_clean, scaler = wrangle(\n",
    "    titanic_df,\n",
    "    filename=\"titanic_preprocessed.pkl\",  # wrangle handles the full path\n",
    "    return_scaler=True\n",
    ")\n",
    "\n",
    "# Save the scaler for future use\n",
    "scaler_path = os.path.join(datasets_dir, \"titanic_scaler.pkl\")\n",
    "joblib.dump(scaler, scaler_path)\n",
    "print(f\"Scaler saved as '{scaler_path}'\")\n",
    "\n",
    "\n",
    "# Display preprocessing results\n",
    "print(\"\\nPreprocessing Summary:\")\n",
    "print(f\"Original shape: {titanic_df.shape}\")\n",
    "print(f\"Cleaned shape: {titanic_clean.shape}\")\n",
    "print(f\"Features removed: {titanic_df.shape[1] - titanic_clean.shape[1]}\")"
   ]
  },
  {
   "cell_type": "code",
   "execution_count": 12,
   "id": "f3fd2cc3-3270-4769-a572-a0f4651fc0a5",
   "metadata": {},
   "outputs": [
    {
     "name": "stdout",
     "output_type": "stream",
     "text": [
      "\n",
      "📌 First 3 rows of preprocessed data:\n",
      "\n",
      "[{'adult_male': True,\n",
      "  'age': -0.5657364610748746,\n",
      "  'alone': False,\n",
      "  'embark_town_Queenstown': 0,\n",
      "  'embark_town_Southampton': 1,\n",
      "  'embarked_Q': 0,\n",
      "  'embarked_S': 1,\n",
      "  'fare': -0.5024451714361923,\n",
      "  'parch': -0.4736736092984604,\n",
      "  'pclass': 3,\n",
      "  'sex_male': 1,\n",
      "  'sibsp': 0.4327933656785018,\n",
      "  'survived': 0},\n",
      " {'adult_male': False,\n",
      "  'age': 0.6638610320657843,\n",
      "  'alone': False,\n",
      "  'embark_town_Queenstown': 0,\n",
      "  'embark_town_Southampton': 0,\n",
      "  'embarked_Q': 0,\n",
      "  'embarked_S': 0,\n",
      "  'fare': 0.7868452935884461,\n",
      "  'parch': -0.4736736092984604,\n",
      "  'pclass': 1,\n",
      "  'sex_male': 0,\n",
      "  'sibsp': 0.4327933656785018,\n",
      "  'survived': 1},\n",
      " {'adult_male': False,\n",
      "  'age': -0.2583370877897099,\n",
      "  'alone': True,\n",
      "  'embark_town_Queenstown': 0,\n",
      "  'embark_town_Southampton': 1,\n",
      "  'embarked_Q': 0,\n",
      "  'embarked_S': 1,\n",
      "  'fare': -0.4888542575852486,\n",
      "  'parch': -0.4736736092984604,\n",
      "  'pclass': 3,\n",
      "  'sex_male': 0,\n",
      "  'sibsp': -0.47454519624983954,\n",
      "  'survived': 1}]\n",
      "\n",
      "✅ Remaining missing values: 0\n"
     ]
    }
   ],
   "source": [
    "# Show first few rows\n",
    "print(\"\\n📌 First 3 rows of preprocessed data:\\n\")\n",
    "pprint(titanic_clean.head(3).to_dict(orient=\"records\"))\n",
    "\n",
    "missing_values = titanic_clean.isnull().sum().sum()\n",
    "print(f\"\\n✅ Remaining missing values: {missing_values}\")\n"
   ]
  },
  {
   "cell_type": "markdown",
   "id": "a0e984d6-bf9a-42f6-a5de-e9524f64121d",
   "metadata": {},
   "source": [
    "## Communication"
   ]
  },
  {
   "cell_type": "markdown",
   "id": "c7f0b8ea-5528-4da4-8641-8be55518ecb5",
   "metadata": {},
   "source": [
    "**Visualizations After Cleaning**\n",
    "\n",
    "- Show how features like age and fare were transformed, Example: one plot of raw fare, another of scaled fare which clearly shows the effect of standardization."
   ]
  },
  {
   "cell_type": "code",
   "execution_count": 13,
   "id": "857b5875-fae1-46ec-9285-688b85932b7a",
   "metadata": {},
   "outputs": [
    {
     "data": {
      "image/png": "[encoded data removed]",
      "text/plain": [
       "<Figure size 1200x500 with 2 Axes>"
      ]
     },
     "metadata": {},
     "output_type": "display_data"
    }
   ],
   "source": [
    "#Histogram / Distribution Plots (Before vs After Scaling)\n",
    "fig, axes = plt.subplots(1, 2, figsize=(12,5))\n",
    "sns.histplot(titanic_df['fare'], bins=30, ax=axes[0], color=\"steelblue\")\n",
    "axes[0].set_title(\"Fare Before Scaling\")\n",
    "\n",
    "sns.histplot(titanic_clean['fare'], bins=30, ax=axes[1], color=\"seagreen\")\n",
    "axes[1].set_title(\"Fare After Scaling\")\n",
    "plt.show()\n"
   ]
  },
  {
   "cell_type": "markdown",
   "id": "bc7effbb-cb95-4e75-ad28-a93230db6572",
   "metadata": {},
   "source": [
    "###  Full Summary\n",
    "\n",
    "In this notebook, I carried out a complete preprocessing workflow on the Titanic dataset to prepare it for machine learning applications. The process began with exploratory data analysis (EDA) to understand the dataset’s structure, identify missing values, and highlight redundant or incomplete features. Based on this analysis, I dropped irrelevant columns (deck, alive, class, who), handled missing data by imputing age with the median and embarked/embark_town with their most frequent categories, and retained only informative variables.\n",
    "\n",
    "Next, I transformed categorical features (sex, embarked, embark_town) into numeric form using One-Hot Encoding with drop_first=True to prevent multicollinearity. For numerical features (age, fare, sibsp, and parch), I applied standardization using StandardScaler, ensuring all features share a comparable scale.\n",
    "\n",
    "Finally, I consolidated all these steps into a reusable wrangle() function, which automates the cleaning pipeline and saves the processed dataset. With these steps complete, the Titanic dataset is now clean, consistent, and ready for downstream machine learning tasks such as regression, classification, or neural networks.\n",
    "\n",
    "For transparency and reproducibility, I have saved both the raw dataset and the processed dataset in the project’s datasets/ directory, making them readily available for review or reuse if necessary."
   ]
  },
  {
   "cell_type": "code",
   "execution_count": null,
   "id": "c51cff2e-e2b2-4498-81df-a36922b25614",
   "metadata": {},
   "outputs": [],
   "source": []
  }
 ],
 "metadata": {
  "kernelspec": {
   "display_name": "Python (codveda)",
   "language": "python",
   "name": "codveda-env"
  },
  "language_info": {
   "codemirror_mode": {
    "name": "ipython",
    "version": 3
   },
   "file_extension": ".py",
   "mimetype": "text/x-python",
   "name": "python",
   "nbconvert_exporter": "python",
   "pygments_lexer": "ipython3",
   "version": "3.13.5"
  }
 },
 "nbformat": 4,
 "nbformat_minor": 5
}
